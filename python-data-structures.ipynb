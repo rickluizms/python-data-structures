{
 "cells": [
  {
   "cell_type": "markdown",
   "metadata": {},
   "source": [
    " ### Estruturas de Dados em Python\n",
    "\n",
    "Entrando em um nível mais baixo, um programa está dividido em dados e nas instruções que manipulam esses dados.\n",
    "Para organizar os dados temos a `Estrutura de Dados` e para a manipulação deles, temos os `Algoritmos.` \n"
   ]
  },
  {
   "cell_type": "markdown",
   "metadata": {},
   "source": [
    "### 1 - Tipos de Dados\n",
    "\n",
    "É um conjunto de valores que uma constante, variável ou expressão podem assumir, ou então, a\n",
    "um conjunto de valores que possam ser gerados por uma função. "
   ]
  },
  {
   "cell_type": "markdown",
   "metadata": {},
   "source": [
    "##### Tipos de Dados Primitivos:\n",
    "\n",
    "São os tipos de dados que além de depender das características do sistema, dependem do\n",
    "processador. Os tipos de dados primitivos ou básicos são aqueles a partir dos quais podemos\n",
    "definir os demais tipos ou organizações de informações, quase sempre mais complexas. Estes\n",
    "tipos de dados primitivos ou básicos são implementados e manipulados pelos compiladores: o\n",
    "compilador é o responsável do armazenamento e processamento (operações) destes tipos de\n",
    "dados. Os tipos de dados primitivos mais frequentes e suas operações são:\n",
    "\n",
    "- **Inteiro:** Numero inteiro (Idade, ano, dia)\n",
    "- **Real** Valores Decimais (Peso, estatura, salário)\n",
    "- **Caracteres** Sequencia de Caracteres (Nome, endereco, cargo)\n",
    "- **Lógico** Valores lógicos (E, OU, NÃO, True, False)\n",
    "- **Ponteiro** Endereço de memória do computador (FrenteFila, primeiro, proximo) `Não aplicável em python`\n",
    "\n",
    "Em Python, a linguagem é dinamicamente tipada, o que significa que você não precisa declarar explicitamente o tipo de dados de uma variável.\n",
    "\n",
    "Para lidar com os tipode de dados primitivos, o python possuem as seguintes ferramentas: "
   ]
  },
  {
   "cell_type": "markdown",
   "metadata": {},
   "source": [
    "##### Inteiros:"
   ]
  },
  {
   "cell_type": "markdown",
   "metadata": {},
   "source": [
    "- **Declaração e atribuição de um inteiro**:"
   ]
  },
  {
   "cell_type": "code",
   "execution_count": 4,
   "metadata": {},
   "outputs": [
    {
     "name": "stdout",
     "output_type": "stream",
     "text": [
      "Idade:  30\n"
     ]
    }
   ],
   "source": [
    "idade = 30\n",
    "\n",
    "print('Idade: ', idade)"
   ]
  },
  {
   "cell_type": "markdown",
   "metadata": {},
   "source": [
    "- **Incremento**:"
   ]
  },
  {
   "cell_type": "code",
   "execution_count": 5,
   "metadata": {},
   "outputs": [
    {
     "name": "stdout",
     "output_type": "stream",
     "text": [
      "x:  1\n"
     ]
    }
   ],
   "source": [
    "x = 0\n",
    "x += 1\n",
    "\n",
    "print('x: ', x)"
   ]
  },
  {
   "cell_type": "markdown",
   "metadata": {},
   "source": [
    "- **Decremento**:"
   ]
  },
  {
   "cell_type": "code",
   "execution_count": 6,
   "metadata": {},
   "outputs": [
    {
     "name": "stdout",
     "output_type": "stream",
     "text": [
      "y:  1\n"
     ]
    }
   ],
   "source": [
    "y = 2\n",
    "y -= 1\n",
    "\n",
    "print('y: ', y)"
   ]
  },
  {
   "cell_type": "markdown",
   "metadata": {},
   "source": [
    "- **Operações matemáticas com inteiros**:"
   ]
  },
  {
   "cell_type": "code",
   "execution_count": 7,
   "metadata": {},
   "outputs": [
    {
     "name": "stdout",
     "output_type": "stream",
     "text": [
      "Soma:  15\n",
      "Subtração:  12\n",
      "Multiplicação:  30\n",
      "Divisão:  5.0\n",
      "Divisão Inteira:  5\n",
      "Potência:  125\n"
     ]
    }
   ],
   "source": [
    "soma = 10 + 5\n",
    "subtracao = 20 - 8\n",
    "multiplicacao = 5 * 6\n",
    "divisao = 10 / 2\n",
    "divisao_inteira = 11 // 2\n",
    "resto_divisao = 5 % 3\n",
    "potencia = 5 ** 3\n",
    "\n",
    "print('Soma: ', soma)\n",
    "print('Subtração: ', subtracao)\n",
    "print('Multiplicação: ', multiplicacao)\n",
    "print('Divisão: ', divisao)\n",
    "print('Divisão Inteira: ', divisao_inteira)\n",
    "print('Potência: ', potencia)"
   ]
  },
  {
   "cell_type": "markdown",
   "metadata": {},
   "source": [
    "- **Operadores de comparação**:"
   ]
  },
  {
   "cell_type": "code",
   "execution_count": 8,
   "metadata": {},
   "outputs": [],
   "source": [
    "resultado = (5 == 3)  # False\n",
    "resultado = (5 != 3)  # True\n",
    "resultado = (5 < 3)   # False\n",
    "resultado = (5 <= 3)  # False\n",
    "resultado = (5 > 3)   # True\n",
    "resultado = (5 >= 3)  # True"
   ]
  },
  {
   "cell_type": "markdown",
   "metadata": {},
   "source": [
    "##### Strings:"
   ]
  },
  {
   "cell_type": "markdown",
   "metadata": {},
   "source": [
    "- `len():` **Retorna o comprimento da string**."
   ]
  },
  {
   "cell_type": "code",
   "execution_count": 9,
   "metadata": {},
   "outputs": [
    {
     "name": "stdout",
     "output_type": "stream",
     "text": [
      "Comprimento:  11\n"
     ]
    }
   ],
   "source": [
    "texto = \"Olá, mundo!\"\n",
    "comprimento = len(texto)\n",
    "print('Comprimento: ', comprimento)"
   ]
  },
  {
   "cell_type": "markdown",
   "metadata": {},
   "source": [
    "- `str():` **Converte um objeto em uma string**."
   ]
  },
  {
   "cell_type": "code",
   "execution_count": 10,
   "metadata": {},
   "outputs": [
    {
     "name": "stdout",
     "output_type": "stream",
     "text": [
      "42\n"
     ]
    }
   ],
   "source": [
    "numero = 42\n",
    "texto = str(numero)\n",
    "print(texto)"
   ]
  },
  {
   "cell_type": "markdown",
   "metadata": {},
   "source": [
    "- `upper():` **Converte todos os caracteres da string para maiúsculas**."
   ]
  },
  {
   "cell_type": "code",
   "execution_count": 11,
   "metadata": {},
   "outputs": [
    {
     "name": "stdout",
     "output_type": "stream",
     "text": [
      "OLÁ, MUNDO!\n"
     ]
    }
   ],
   "source": [
    "texto = \"olá, mundo!\"\n",
    "texto_maiusculo = texto.upper()\n",
    "print(texto_maiusculo)"
   ]
  },
  {
   "cell_type": "markdown",
   "metadata": {},
   "source": [
    "- `lower():` **Converte todos os caracteres da string para minúsculas**."
   ]
  },
  {
   "cell_type": "code",
   "execution_count": 12,
   "metadata": {},
   "outputs": [
    {
     "name": "stdout",
     "output_type": "stream",
     "text": [
      "olá, mundo!\n"
     ]
    }
   ],
   "source": [
    "texto = \"OLÁ, MUNDO!\"\n",
    "texto_minusculo = texto.lower()\n",
    "print(texto_minusculo)"
   ]
  },
  {
   "cell_type": "markdown",
   "metadata": {},
   "source": [
    "- `capitalize():` **Converte o primeiro caractere da string para maiúscula**."
   ]
  },
  {
   "cell_type": "code",
   "execution_count": 13,
   "metadata": {},
   "outputs": [
    {
     "name": "stdout",
     "output_type": "stream",
     "text": [
      "Olá, mundo!\n"
     ]
    }
   ],
   "source": [
    "texto = \"olá, mundo!\"\n",
    "texto_capitalizado = texto.capitalize()\n",
    "print(texto_capitalizado)"
   ]
  },
  {
   "cell_type": "markdown",
   "metadata": {},
   "source": [
    "- `title():` **Converte o primeiro caractere de cada palavra para maiúscula**."
   ]
  },
  {
   "cell_type": "code",
   "execution_count": 14,
   "metadata": {},
   "outputs": [
    {
     "name": "stdout",
     "output_type": "stream",
     "text": [
      "Olá, Mundo!\n"
     ]
    }
   ],
   "source": [
    "texto = \"olá, mundo!\"\n",
    "texto_titulado = texto.title()\n",
    "print(texto_titulado)"
   ]
  },
  {
   "cell_type": "markdown",
   "metadata": {},
   "source": [
    "- `split():` **Divide a string em uma lista de substrings usando um delimitador**."
   ]
  },
  {
   "cell_type": "code",
   "execution_count": 15,
   "metadata": {},
   "outputs": [
    {
     "name": "stdout",
     "output_type": "stream",
     "text": [
      "['olá', ' mundo!']\n"
     ]
    }
   ],
   "source": [
    "texto = \"olá, mundo!\"\n",
    "palavras = texto.split(\",\")\n",
    "print(palavras)"
   ]
  },
  {
   "cell_type": "markdown",
   "metadata": {},
   "source": [
    "- `join():` **Junta uma lista de strings em uma única string usando um separador**."
   ]
  },
  {
   "cell_type": "code",
   "execution_count": 16,
   "metadata": {},
   "outputs": [
    {
     "name": "stdout",
     "output_type": "stream",
     "text": [
      "olá, mundo\n"
     ]
    }
   ],
   "source": [
    "palavras = [\"olá\", \"mundo\"]\n",
    "texto = \", \".join(palavras)\n",
    "print(texto)"
   ]
  },
  {
   "cell_type": "markdown",
   "metadata": {},
   "source": [
    "- `replace():` **Substitui todas as ocorrências de uma substring por outra**."
   ]
  },
  {
   "cell_type": "code",
   "execution_count": 17,
   "metadata": {},
   "outputs": [
    {
     "name": "stdout",
     "output_type": "stream",
     "text": [
      "olá, Python!\n"
     ]
    }
   ],
   "source": [
    "texto = \"olá, mundo!\"\n",
    "novo_texto = texto.replace(\"mundo\", \"Python\")\n",
    "print(novo_texto)"
   ]
  },
  {
   "cell_type": "markdown",
   "metadata": {},
   "source": [
    "- `strip():` **Remove os espaços em branco no início e no final da string**."
   ]
  },
  {
   "cell_type": "code",
   "execution_count": 18,
   "metadata": {},
   "outputs": [
    {
     "name": "stdout",
     "output_type": "stream",
     "text": [
      "olá, mundo!\n"
     ]
    }
   ],
   "source": [
    "texto = \"   olá, mundo!   \"\n",
    "texto_sem_espacos = texto.strip()\n",
    "print(texto_sem_espacos)"
   ]
  },
  {
   "cell_type": "markdown",
   "metadata": {},
   "source": [
    "- `startswith(prefixo):` **Retorna True se a string começar com o prefixo especificado**."
   ]
  },
  {
   "cell_type": "code",
   "execution_count": 19,
   "metadata": {},
   "outputs": [
    {
     "name": "stdout",
     "output_type": "stream",
     "text": [
      "True\n"
     ]
    }
   ],
   "source": [
    "texto = \"Olá, mundo!\"\n",
    "verificacao = texto.startswith(\"Olá\")  # Retorna True\n",
    "print(verificacao)"
   ]
  },
  {
   "cell_type": "markdown",
   "metadata": {},
   "source": [
    "- `endswith(sufixo):` **Retorna True se a string terminar com o sufixo especificado**."
   ]
  },
  {
   "cell_type": "code",
   "execution_count": 20,
   "metadata": {},
   "outputs": [
    {
     "name": "stdout",
     "output_type": "stream",
     "text": [
      "True\n"
     ]
    }
   ],
   "source": [
    "texto = \"Olá, mundo!\"\n",
    "verificacao = texto.endswith(\"mundo!\")  # Retorna True\n",
    "print(verificacao)"
   ]
  },
  {
   "cell_type": "markdown",
   "metadata": {},
   "source": [
    "##### Tipos de Dados Estruturados\n",
    "\n",
    "Os tipos de dados estruturados são organizações de dados que são obtidas a partir dos tipos de\n",
    "dados primitivos. A maioria das linguagens de programação prove alguns tipos estruturados\n",
    "para facilitar a organização de dados. Os mais frequentes são os seguintes:"
   ]
  },
  {
   "cell_type": "markdown",
   "metadata": {},
   "source": [
    "- **Arranjos (arrays)**: Em Python, a estrutura de dados mais próxima de um array seria uma lista. Listas podem conter elementos de diferentes tipos e podem ser dimensionadas dinamicamente, não necessitando de uma declaração de tamanho fixo. Exemplo:"
   ]
  },
  {
   "cell_type": "code",
   "execution_count": 21,
   "metadata": {},
   "outputs": [],
   "source": [
    "# Lista com 51 elementos\n",
    "x = [0] * 51  # Cria uma lista com 51 elementos, todos inicializados com 0"
   ]
  },
  {
   "cell_type": "markdown",
   "metadata": {},
   "source": [
    "- **Registros**: Em Python, você pode usar um dicionário para representar um registro. Um dicionário permite associar chaves a valores, simulando a estrutura de um registro. Exemplo:"
   ]
  },
  {
   "cell_type": "code",
   "execution_count": 22,
   "metadata": {},
   "outputs": [],
   "source": [
    "# Dicionário representando um registro com campos 'nome' e 'idade'\n",
    "pessoa = {'nome': 'João', 'idade': 30}"
   ]
  },
  {
   "cell_type": "markdown",
   "metadata": {},
   "source": [
    "- **Conjuntos**: Em Python, você pode usar o tipo set para representar conjuntos. Um conjunto é uma coleção não ordenada de elementos únicos. Exemplo:"
   ]
  },
  {
   "cell_type": "code",
   "execution_count": 23,
   "metadata": {},
   "outputs": [],
   "source": [
    "# Criando um conjunto com elementos únicos\n",
    "conjunto = {1, 2, 3, 4, 5}"
   ]
  },
  {
   "cell_type": "markdown",
   "metadata": {},
   "source": [
    "Lembrando que em Python, os tipos de dados são dinâmicos, ou seja, você não precisa declarar o tipo de dado de uma variável antes de atribuir um valor a ela. Além disso, Python possui estruturas de dados nativas poderosas que podem ser usadas para representar uma variedade de tipos estruturados de forma mais flexível do que em muitas outras linguagens."
   ]
  },
  {
   "cell_type": "markdown",
   "metadata": {},
   "source": []
  },
  {
   "cell_type": "markdown",
   "metadata": {},
   "source": [
    "### 2 - Abstração\n",
    "\n",
    "Em Python, os tipos abstratos de dados (TADs) são frequentemente implementados por meio de classes. As classes em Python são usadas para definir novos tipos de objetos, com atributos que representam os valores do TAD e métodos que definem as operações que podem ser realizadas sobre esses valores.\n",
    "\n",
    "Por exemplo, para implementar um tipo abstrato de dados de Conjunto (Set) em Python, podemos criar uma classe Conjunto com métodos para adicionar elementos, remover elementos e verificar se um elemento está presente no conjunto. Aqui está um exemplo simples:"
   ]
  },
  {
   "cell_type": "code",
   "execution_count": 24,
   "metadata": {},
   "outputs": [],
   "source": [
    "class Conjunto:\n",
    "    def __init__(self):\n",
    "        self.elementos = []\n",
    "\n",
    "    def adicionar(self, elemento):\n",
    "        if elemento not in self.elementos:\n",
    "            self.elementos.append(elemento)\n",
    "\n",
    "    def remover(self, elemento):\n",
    "        if elemento in self.elementos:\n",
    "            self.elementos.remove(elemento)\n",
    "\n",
    "    def esta_presente(self, elemento):\n",
    "        return elemento in self.elementos"
   ]
  },
  {
   "cell_type": "markdown",
   "metadata": {},
   "source": [
    "Com essa classe, podemos criar um conjunto e realizar operações sobre ele:"
   ]
  },
  {
   "cell_type": "code",
   "execution_count": 25,
   "metadata": {},
   "outputs": [
    {
     "name": "stdout",
     "output_type": "stream",
     "text": [
      "True\n",
      "False\n"
     ]
    }
   ],
   "source": [
    "meu_conjunto = Conjunto()\n",
    "meu_conjunto.adicionar(1)\n",
    "meu_conjunto.adicionar(2)\n",
    "print(meu_conjunto.esta_presente(1))  # Saída: True\n",
    "meu_conjunto.remover(1)\n",
    "print(meu_conjunto.esta_presente(1))  # Saída: False\n"
   ]
  },
  {
   "cell_type": "markdown",
   "metadata": {},
   "source": [
    "Em resumo, em Python, os tipos abstratos de dados podem ser implementados usando classes, com atributos para representar os valores e métodos para definir as operações. Python também fornece estruturas de dados nativas, como listas, dicionários e conjuntos, que podem ser usadas para implementar muitos tipos de TADs de forma eficiente."
   ]
  },
  {
   "cell_type": "markdown",
   "metadata": {},
   "source": [
    "### 3 - Listas Lineares\n",
    "\n",
    "Em Python, a implementação de listas lineares pode ser feita usando a estrutura de dados nativa list. As listas em Python são dinâmicas e podem crescer ou encolher automaticamente conforme necessário. Aqui está um exemplo simples de como trabalhar com listas em Python:"
   ]
  },
  {
   "cell_type": "markdown",
   "metadata": {},
   "source": [
    "- Criar listas:"
   ]
  },
  {
   "cell_type": "code",
   "execution_count": 26,
   "metadata": {},
   "outputs": [
    {
     "name": "stdout",
     "output_type": "stream",
     "text": [
      "[]\n"
     ]
    }
   ],
   "source": [
    "# Criando uma lista vazia\n",
    "minha_lista = []\n",
    "\n",
    "print(minha_lista)"
   ]
  },
  {
   "cell_type": "markdown",
   "metadata": {},
   "source": [
    "- Adicionar elementos à lista:"
   ]
  },
  {
   "cell_type": "code",
   "execution_count": 27,
   "metadata": {},
   "outputs": [
    {
     "name": "stdout",
     "output_type": "stream",
     "text": [
      "[1, 2, 3]\n"
     ]
    }
   ],
   "source": [
    "minha_lista.append(1)\n",
    "minha_lista.append(2)\n",
    "minha_lista.append(3)\n",
    "\n",
    "print(minha_lista)"
   ]
  },
  {
   "cell_type": "markdown",
   "metadata": {},
   "source": [
    "- Acessando elementos da lista"
   ]
  },
  {
   "cell_type": "code",
   "execution_count": 28,
   "metadata": {},
   "outputs": [
    {
     "name": "stdout",
     "output_type": "stream",
     "text": [
      "Primeiro elemento: 1\n",
      "Ultimo elemento: 3\n"
     ]
    }
   ],
   "source": [
    "primeiro_elemento = minha_lista[0]\n",
    "ultimo_elemento = minha_lista[-1]\n",
    "\n",
    "print(f\"Primeiro elemento: {primeiro_elemento}\")\n",
    "print(f\"Ultimo elemento: {ultimo_elemento}\")"
   ]
  },
  {
   "cell_type": "markdown",
   "metadata": {},
   "source": [
    "- Procurando um determinado elemento na lista:"
   ]
  },
  {
   "cell_type": "code",
   "execution_count": 29,
   "metadata": {},
   "outputs": [
    {
     "name": "stdout",
     "output_type": "stream",
     "text": [
      "1\n"
     ]
    }
   ],
   "source": [
    "indice_elemento = minha_lista.index(2)  # Retorna o índice do elemento 2 na lista\n",
    "print(indice_elemento)"
   ]
  },
  {
   "cell_type": "markdown",
   "metadata": {},
   "source": [
    "- Inserindo um elemento em uma posição específica da lista"
   ]
  },
  {
   "cell_type": "code",
   "execution_count": 30,
   "metadata": {},
   "outputs": [
    {
     "name": "stdout",
     "output_type": "stream",
     "text": [
      "[1, 4, 2, 3]\n"
     ]
    }
   ],
   "source": [
    "minha_lista.insert(1, 4)  # Insere o valor 4 na posição 1\n",
    "print(minha_lista)"
   ]
  },
  {
   "cell_type": "markdown",
   "metadata": {},
   "source": [
    "- Removendo um elemento de uma posição específica da lista"
   ]
  },
  {
   "cell_type": "code",
   "execution_count": 31,
   "metadata": {},
   "outputs": [
    {
     "name": "stdout",
     "output_type": "stream",
     "text": [
      "Elemento removido: 2\n",
      "Nova lista:  [1, 4, 3]\n"
     ]
    }
   ],
   "source": [
    "elemento_removido = minha_lista.pop(2)  # Remove o elemento na posição 2 e o retorna\n",
    "print(f\"Elemento removido: {elemento_removido}\")\n",
    "print(\"Nova lista: \", minha_lista)"
   ]
  },
  {
   "cell_type": "markdown",
   "metadata": {},
   "source": [
    "- Combinando duas listas em uma única"
   ]
  },
  {
   "cell_type": "code",
   "execution_count": 32,
   "metadata": {},
   "outputs": [
    {
     "name": "stdout",
     "output_type": "stream",
     "text": [
      "[1, 4, 3, 5, 6, 7]\n"
     ]
    }
   ],
   "source": [
    "outra_lista = [5, 6, 7]\n",
    "minha_lista.extend(outra_lista)  # Adiciona os elementos de outra_lista ao final de minha_lista\n",
    "print(minha_lista)"
   ]
  },
  {
   "cell_type": "markdown",
   "metadata": {},
   "source": [
    "- Particionando uma lista em duas"
   ]
  },
  {
   "cell_type": "code",
   "execution_count": 33,
   "metadata": {},
   "outputs": [
    {
     "name": "stdout",
     "output_type": "stream",
     "text": [
      "[1, 4, 3]\n",
      "[5, 6, 7]\n"
     ]
    }
   ],
   "source": [
    "parte1 = minha_lista[:3]  # Os dois primeiros elementos\n",
    "parte2 = minha_lista[3:]  # Do terceiro elemento até o final\n",
    "print(parte1)\n",
    "print(parte2)"
   ]
  },
  {
   "cell_type": "markdown",
   "metadata": {},
   "source": [
    "- Obtendo uma cópia da lista"
   ]
  },
  {
   "cell_type": "code",
   "execution_count": 34,
   "metadata": {},
   "outputs": [],
   "source": [
    "copia_lista = minha_lista.copy()"
   ]
  },
  {
   "cell_type": "markdown",
   "metadata": {},
   "source": [
    "- Determinando o total de elementos na lista"
   ]
  },
  {
   "cell_type": "code",
   "execution_count": 35,
   "metadata": {},
   "outputs": [
    {
     "name": "stdout",
     "output_type": "stream",
     "text": [
      "6\n"
     ]
    }
   ],
   "source": [
    "total_elementos = len(minha_lista)\n",
    "print(total_elementos)"
   ]
  },
  {
   "cell_type": "markdown",
   "metadata": {},
   "source": [
    "- Ordenando os elementos da lista (Crescente)"
   ]
  },
  {
   "cell_type": "code",
   "execution_count": 36,
   "metadata": {},
   "outputs": [
    {
     "name": "stdout",
     "output_type": "stream",
     "text": [
      "[1, 3, 4, 5, 6, 7]\n"
     ]
    }
   ],
   "source": [
    "minha_lista.sort()\n",
    "print(minha_lista)"
   ]
  },
  {
   "cell_type": "markdown",
   "metadata": {},
   "source": [
    "- Ordenando os elementos da lista (Crescente)"
   ]
  },
  {
   "cell_type": "code",
   "execution_count": 37,
   "metadata": {},
   "outputs": [
    {
     "name": "stdout",
     "output_type": "stream",
     "text": [
      "[7, 6, 5, 4, 3, 1]\n"
     ]
    }
   ],
   "source": [
    "lista_ordenada = minha_lista[::-1]\n",
    "print(lista_ordenada)"
   ]
  },
  {
   "cell_type": "markdown",
   "metadata": {},
   "source": [
    "- Apagando uma lista"
   ]
  },
  {
   "cell_type": "code",
   "execution_count": 38,
   "metadata": {},
   "outputs": [],
   "source": [
    "del minha_lista"
   ]
  },
  {
   "cell_type": "markdown",
   "metadata": {},
   "source": [
    "### 4 - Matrizes\n",
    "\n",
    "Em Python, uma matriz pode ser representada como uma lista de listas, onde cada lista interna representa uma linha da matriz. As operações que podemos realizar com matrizes em Python incluem:"
   ]
  },
  {
   "cell_type": "markdown",
   "metadata": {},
   "source": [
    "- **Criar uma matriz**:"
   ]
  },
  {
   "cell_type": "code",
   "execution_count": 39,
   "metadata": {},
   "outputs": [
    {
     "name": "stdout",
     "output_type": "stream",
     "text": [
      "[[1, 2, 3], [4, 5, 6], [7, 8, 9]]\n"
     ]
    }
   ],
   "source": [
    "matriz = [\n",
    "    [1, 2, 3], \n",
    "    [4, 5, 6], \n",
    "    [7, 8, 9]\n",
    "]\n",
    "\n",
    "print(matriz)"
   ]
  },
  {
   "cell_type": "markdown",
   "metadata": {},
   "source": [
    "- **Acessar elementos da matriz**:"
   ]
  },
  {
   "cell_type": "code",
   "execution_count": 40,
   "metadata": {},
   "outputs": [
    {
     "name": "stdout",
     "output_type": "stream",
     "text": [
      "5\n"
     ]
    }
   ],
   "source": [
    "elemento = matriz[1][1]\n",
    "print(elemento)"
   ]
  },
  {
   "cell_type": "markdown",
   "metadata": {},
   "source": [
    "- **Adicionar uma linha à matriz**:"
   ]
  },
  {
   "cell_type": "code",
   "execution_count": 41,
   "metadata": {},
   "outputs": [
    {
     "name": "stdout",
     "output_type": "stream",
     "text": [
      "[[1, 2, 3], [4, 5, 6], [7, 8, 9], [10, 11, 12]]\n"
     ]
    }
   ],
   "source": [
    "matriz.append([10, 11, 12])\n",
    "print(matriz)"
   ]
  },
  {
   "cell_type": "markdown",
   "metadata": {},
   "source": [
    "- Adicionar um elemento a uma linha específica:"
   ]
  },
  {
   "cell_type": "code",
   "execution_count": 42,
   "metadata": {},
   "outputs": [
    {
     "name": "stdout",
     "output_type": "stream",
     "text": [
      "[[1, 2, 3], [4, 5, 6], [7, 8, 9], [10, 11, 12, 15]]\n"
     ]
    }
   ],
   "source": [
    "matriz[3].append(15)\n",
    "print(matriz)"
   ]
  },
  {
   "cell_type": "markdown",
   "metadata": {},
   "source": [
    "- **Remover um elemento de uma linha específica**:"
   ]
  },
  {
   "cell_type": "code",
   "execution_count": 43,
   "metadata": {},
   "outputs": [
    {
     "name": "stdout",
     "output_type": "stream",
     "text": [
      "[[1, 2, 3], [4, 5, 6], [7, 8, 9], [10, 11, 12]]\n"
     ]
    }
   ],
   "source": [
    "matriz[3].remove(15)\n",
    "print(matriz)"
   ]
  },
  {
   "cell_type": "markdown",
   "metadata": {},
   "source": [
    "- **Remover uma linha da matriz**:"
   ]
  },
  {
   "cell_type": "code",
   "execution_count": 44,
   "metadata": {},
   "outputs": [
    {
     "name": "stdout",
     "output_type": "stream",
     "text": [
      "[[1, 2, 3], [4, 5, 6], [7, 8, 9]]\n"
     ]
    }
   ],
   "source": [
    "del matriz[3]\n",
    "print(matriz)"
   ]
  },
  {
   "cell_type": "markdown",
   "metadata": {},
   "source": [
    "- **Obter o número de linhas e colunas da matriz**:"
   ]
  },
  {
   "cell_type": "code",
   "execution_count": 45,
   "metadata": {},
   "outputs": [
    {
     "name": "stdout",
     "output_type": "stream",
     "text": [
      "Numero de Linhas:  3\n",
      "Numero de Colunas:  3\n"
     ]
    }
   ],
   "source": [
    "num_linhas = len(matriz)\n",
    "num_colunas = len(matriz[0]) if matriz else 0\n",
    "\n",
    "print('Numero de Linhas: ', num_linhas )\n",
    "print('Numero de Colunas: ', num_colunas )"
   ]
  },
  {
   "cell_type": "markdown",
   "metadata": {},
   "source": [
    "- **Transpor a matriz**:"
   ]
  },
  {
   "cell_type": "code",
   "execution_count": 46,
   "metadata": {},
   "outputs": [
    {
     "name": "stdout",
     "output_type": "stream",
     "text": [
      "[[1, 4, 7], [2, 5, 8], [3, 6, 9]]\n"
     ]
    }
   ],
   "source": [
    "matriz_transposta = [[matriz[j][i] for j in range(num_linhas)] for i in range(num_colunas)]\n",
    "\n",
    "print(matriz_transposta)"
   ]
  },
  {
   "cell_type": "markdown",
   "metadata": {},
   "source": [
    "- **Somar duas matrizes**:"
   ]
  },
  {
   "cell_type": "code",
   "execution_count": 47,
   "metadata": {},
   "outputs": [
    {
     "name": "stdout",
     "output_type": "stream",
     "text": [
      "[[2, 6, 10], [6, 10, 14], [10, 14, 18]]\n"
     ]
    }
   ],
   "source": [
    "matriz1 = matriz\n",
    "matriz2 = matriz_transposta\n",
    "\n",
    "matriz_resultante = [[matriz1[i][j] + matriz2[i][j] for j in range(num_colunas)] for i in range(num_linhas)]\n",
    "print(matriz_resultante)"
   ]
  },
  {
   "cell_type": "markdown",
   "metadata": {},
   "source": [
    "- **Multiplicar uma matriz por um escalar**:"
   ]
  },
  {
   "cell_type": "code",
   "execution_count": 48,
   "metadata": {},
   "outputs": [
    {
     "name": "stdout",
     "output_type": "stream",
     "text": [
      "[[3, 6, 9], [12, 15, 18], [21, 24, 27]]\n"
     ]
    }
   ],
   "source": [
    "escalar = 3\n",
    "\n",
    "matriz_resultante = [[elemento * escalar for elemento in linha] for linha in matriz]\n",
    "print(matriz_resultante)"
   ]
  },
  {
   "cell_type": "markdown",
   "metadata": {},
   "source": [
    "- **Multiplicar duas matrizes**:"
   ]
  },
  {
   "cell_type": "code",
   "execution_count": 49,
   "metadata": {},
   "outputs": [
    {
     "name": "stdout",
     "output_type": "stream",
     "text": [
      "[[14, 32, 50], [32, 77, 122], [50, 122, 194]]\n"
     ]
    }
   ],
   "source": [
    "matriz1 = matriz\n",
    "matriz2 = matriz_transposta\n",
    "\n",
    "matriz_resultante = [[sum(matriz1[i][k] * matriz2[k][j] for k in range(num_colunas)) for j in range(num_colunas)] for i in range(num_linhas)]\n",
    "\n",
    "print(matriz_resultante)"
   ]
  },
  {
   "cell_type": "markdown",
   "metadata": {},
   "source": [
    "- Ordenar colunas de matrizes"
   ]
  },
  {
   "cell_type": "code",
   "execution_count": 50,
   "metadata": {},
   "outputs": [
    {
     "name": "stdout",
     "output_type": "stream",
     "text": [
      "{19, 20, 21}\n"
     ]
    }
   ],
   "source": [
    "records = [\n",
    "    ['Harsh', 20], \n",
    "    ['Beria', 20], \n",
    "    ['Varun', 19], \n",
    "    ['Kakunami', 19], \n",
    "    ['Vikas', 21]\n",
    "    ]\n",
    "\n",
    "sorted_scores = set(record[1] for record in records)\n",
    "sorted_names = sorted(records, key=lambda x: x[0])\n",
    "\n",
    "print(sorted_scores)\n"
   ]
  },
  {
   "cell_type": "markdown",
   "metadata": {},
   "source": [
    "### 5 - Dicionários"
   ]
  },
  {
   "cell_type": "markdown",
   "metadata": {},
   "source": [
    "**Definição**: Um dicionário em Python é uma estrutura de dados que armazena pares de chave-valor. As chaves são únicas e os valores podem ser de qualquer tipo de dado. Imagine um dicionário de palavras: cada palavra é uma chave e sua definição é o valor.\n",
    "\n",
    "**Implementação em Python**:\n",
    "\n",
    "Em Python, podemos implementar dicionários usando a palavra-chave dict.\n",
    "\n",
    "**Operações comuns**:\n",
    "\n",
    "- `d[chave] = valor`: Adiciona ou atualiza um par chave-valor no dicionário.\n",
    "- `del d[chave]`: Remove um par chave-valor do dicionário.\n",
    "- `chave in d`: Verifica se uma chave está presente no dicionário.\n",
    "- `d.keys()`: Retorna uma lista com todas as chaves do dicionário.\n",
    "- `d.values()`: Retorna uma lista com todos os valores do dicionário.\n",
    "- `d.items()`: Retorna uma lista com tuplas (chave, valor) para cada par no dicionário.\n",
    "\n",
    "**Exemplo**:"
   ]
  },
  {
   "cell_type": "code",
   "execution_count": 51,
   "metadata": {},
   "outputs": [
    {
     "name": "stdout",
     "output_type": "stream",
     "text": [
      "Nome: João\n",
      "Cidade: São Paulo\n",
      "Email não encontrado\n",
      "nome\n",
      "cidade\n",
      "profissao\n",
      "João\n",
      "São Paulo\n",
      "Desenvolvedor\n",
      "nome: João\n",
      "cidade: São Paulo\n",
      "profissao: Desenvolvedor\n"
     ]
    }
   ],
   "source": [
    "meu_dicionario = {\"nome\": \"João\", \"idade\": 30, \"cidade\": \"São Paulo\"}\n",
    "\n",
    "meu_dicionario[\"profissao\"] = \"Desenvolvedor\"  # Adiciona um novo par\n",
    "del meu_dicionario[\"idade\"]  # Remove um par\n",
    "\n",
    "print(\"Nome:\", meu_dicionario[\"nome\"])  # Acessa um valor\n",
    "print(\"Cidade:\", meu_dicionario[\"cidade\"])\n",
    "\n",
    "if \"email\" in meu_dicionario:  # Verifica se uma chave existe\n",
    "    print(\"Email:\", meu_dicionario[\"email\"])\n",
    "else:\n",
    "    print(\"Email não encontrado\")\n",
    "\n",
    "for chave in meu_dicionario.keys():  # Itera sobre as chaves\n",
    "    print(chave)\n",
    "\n",
    "for valor in meu_dicionario.values():  # Itera sobre os valores\n",
    "    print(valor)\n",
    "\n",
    "for chave, valor in meu_dicionario.items():  # Itera sobre os pares\n",
    "    print(f\"{chave}: {valor}\")"
   ]
  },
  {
   "cell_type": "markdown",
   "metadata": {},
   "source": [
    "### 6 - Pilhas"
   ]
  },
  {
   "cell_type": "markdown",
   "metadata": {},
   "source": [
    "**Definição**: Uma pilha é uma estrutura de dados que segue o princípio LIFO (Last-In, First-Out), ou seja, o último elemento a entrar na pilha é o primeiro a sair. Imagine uma pilha de pratos: você coloca o prato mais novo em cima e tira o prato mais antigo de cima também.\n",
    "\n",
    "**Implementação em Python**:\n",
    "\n",
    "Em Python, podemos implementar pilhas usando listas. A lista representará a pilha, e as operações de inserção e remoção serão feitas no final da lista.\n",
    "\n",
    "**Operações básicas**:\n",
    "\n",
    "- `push(item)`: Insere um novo elemento no topo da pilha (final da lista).\n",
    "- `pop()`: Remove e retorna o elemento do topo da pilha (final da lista).\n",
    "- `top()`: Retorna o elemento do topo da pilha (final da lista) sem removê-lo.\n",
    "- `isEmpty()`: Verifica se a pilha está vazia.\n",
    "\n",
    "**Exemplo**:"
   ]
  },
  {
   "cell_type": "code",
   "execution_count": 52,
   "metadata": {},
   "outputs": [],
   "source": [
    "class Pilha:\n",
    "    def __init__(self):\n",
    "        self.pilha = []\n",
    "\n",
    "    def push(self, item):\n",
    "        self.pilha.append(item)\n",
    "\n",
    "    def pop(self):\n",
    "        return self.pilha.pop()\n",
    "\n",
    "    def top(self):\n",
    "        return self.pilha[-1]\n",
    "\n",
    "    def isEmpty(self):\n",
    "        return len(self.pilha) == 0"
   ]
  },
  {
   "cell_type": "code",
   "execution_count": 53,
   "metadata": {},
   "outputs": [
    {
     "name": "stdout",
     "output_type": "stream",
     "text": [
      "C\n",
      "B\n"
     ]
    }
   ],
   "source": [
    "minha_pilha = Pilha()\n",
    "\n",
    "minha_pilha.push(\"A\")\n",
    "minha_pilha.push(\"B\")\n",
    "minha_pilha.push(\"C\")\n",
    "\n",
    "print(minha_pilha.top())  # Saída: C\n",
    "minha_pilha.pop()\n",
    "print(minha_pilha.top())  # Saída: B"
   ]
  },
  {
   "cell_type": "markdown",
   "metadata": {},
   "source": [
    "**Vantagens e desvantagens**:\n",
    "\n",
    "**Vantagens**:\n",
    "\n",
    "- Implementação simples.\n",
    "- Eficiente para operações de push e pop.\n",
    "\n",
    "**Desvantagens**:\n",
    "\n",
    "- Ineficiente para acessar elementos no meio da pilha.\n",
    "- Limite de memória para o tamanho da pilha.\n",
    "\n",
    "**Aplicações**:\n",
    "\n",
    "- Desfazer/refazer em editores de texto.\n",
    "- Navegação na web (histórico de páginas visitadas).\n",
    "- Avaliação de expressões matemáticas.\n",
    "- Implementação de algoritmos recursivos."
   ]
  },
  {
   "cell_type": "markdown",
   "metadata": {},
   "source": [
    "### 7 - Filas e Listas Ordenadas"
   ]
  },
  {
   "cell_type": "markdown",
   "metadata": {},
   "source": [
    "Uma FILA é um tipo especial de lista linear em que as inserções são realizadas num extremo\n",
    "enquanto as remoções são feitas no outro. O extremo onde os elementos são inseridos é\n",
    "denominado final e aquele onde são inseridos é denominado começo da fila.\n",
    "\n",
    "A ordem de saída dos elementos corresponde diretamente à ordem de entrada dos mesmos na\n",
    "fila, de modo que os primeiros elementos que entram serão os primeiros a sair, caracterizando\n",
    "uma estrutura FIFO (First-In/First-Out)."
   ]
  },
  {
   "cell_type": "markdown",
   "metadata": {},
   "source": [
    "##### **Fila Estática Sequencial**:"
   ]
  },
  {
   "cell_type": "markdown",
   "metadata": {},
   "source": [
    "**Implementação em Python**:\n",
    "\n",
    "Em Python, podemos implementar filas estáticas sequenciais usando listas. A lista representará a fila, e as operações de inserção e remoção serão feitas no início e no final da lista, respectivamente.\n",
    "\n",
    "**Problemas**:\n",
    "\n",
    "- Overflow: Se a fila estiver cheia e tentarmos inserir um novo elemento, ocorrerá um overflow.\n",
    "- Underflow: Se a fila estiver vazia e tentarmos remover um elemento, ocorrerá um underflow.\n",
    "\n",
    "**Soluções**:\n",
    "\n",
    "- Fila circular: Ao invés de usar o final da lista como limite, podemos usar um índice circular que \"volta\" para o início da lista quando atinge o final.\n",
    "- Contador de elementos: Podemos usar um contador para acompanhar o número de elementos na fila.\n",
    "\n",
    "**Operações comuns**:\n",
    "\n",
    "- `enqueue(item)`: Insere um novo elemento no final da fila.\n",
    "- `dequeue()`: Remove e retorna o elemento do início da fila.\n",
    "- `front()`: Retorna o elemento do início da fila sem removê-lo.\n",
    "- `isEmpty()`: Verifica se a fila está vazia.\n",
    "- `isFull()`: Verifica se a fila está cheia.\n",
    "\n",
    "**Exemplo**:"
   ]
  },
  {
   "cell_type": "code",
   "execution_count": 54,
   "metadata": {},
   "outputs": [],
   "source": [
    "class Fila:\n",
    "    def __init__(self, tamanho):\n",
    "        self.fila = [None] * tamanho\n",
    "        self.comeco = 0\n",
    "        self.fim = 0\n",
    "        self.tamanho = tamanho\n",
    "\n",
    "    def enqueue(self, item):\n",
    "        if self.isFull():\n",
    "            print(\"Fila está cheia\")\n",
    "        self.fila[self.fim] = item\n",
    "        self.fim = (self.fim + 1) % self.tamanho\n",
    "\n",
    "    def dequeue(self):\n",
    "        if self.isEmpty():\n",
    "            print(\"Fila está vazia\")\n",
    "        item = self.fila[self.comeco]\n",
    "        self.comeco = (self.comeco + 1) % self.tamanho\n",
    "        return item\n",
    "\n",
    "    def front(self):\n",
    "        if self.isEmpty():\n",
    "            print(\"Fila está vazia\")\n",
    "        return self.fila[self.comeco]\n",
    "\n",
    "    def isEmpty(self):\n",
    "        return self.comeco == self.fim\n",
    "\n",
    "    def isFull(self):\n",
    "        return (self.fim + 1) % self.tamanho == self.comeco"
   ]
  },
  {
   "cell_type": "code",
   "execution_count": 55,
   "metadata": {},
   "outputs": [
    {
     "name": "stdout",
     "output_type": "stream",
     "text": [
      "A\n",
      "B\n",
      "Fila não está vazia\n",
      "Fila não está cheia\n"
     ]
    }
   ],
   "source": [
    "minha_fila = Fila(5)\n",
    "\n",
    "minha_fila.enqueue(\"A\")\n",
    "minha_fila.enqueue(\"B\")\n",
    "minha_fila.enqueue(\"C\")\n",
    "\n",
    "print(minha_fila.front())  # Saída: A\n",
    "minha_fila.dequeue()\n",
    "print(minha_fila.front())  # Saída: B\n",
    "\n",
    "if minha_fila.isEmpty():\n",
    "    print(\"Fila está vazia\")\n",
    "else:\n",
    "    print(\"Fila não está vazia\")\n",
    "\n",
    "if minha_fila.isFull():\n",
    "    print(\"Fila está cheia\")\n",
    "else:\n",
    "    print(\"Fila não está cheia\")"
   ]
  },
  {
   "cell_type": "markdown",
   "metadata": {},
   "source": [
    "##### **Fila Dinâmica Encadeada**"
   ]
  },
  {
   "cell_type": "markdown",
   "metadata": {},
   "source": [
    "**Definição**: Uma fila dinâmica encadeada é uma estrutura de dados que segue o princípio FIFO (First-In, First-Out), ou seja, o primeiro elemento a entrar na fila é o primeiro a sair. Ela é implementada usando uma lista encadeada, onde cada elemento da fila é um nó que armazena um dado e um ponteiro para o próximo nó.\n",
    "\n",
    "**Vantagens**:\n",
    "\n",
    "- Alocação dinâmica de memória.\n",
    "- Não há desperdício de memória.\n",
    "- Inserções e remoções eficientes.\n",
    "\n",
    "**Desvantagens**:\n",
    "\n",
    "- Implementação mais complexa que a fila estática sequencial.\n",
    "- Acesso a elementos no meio da fila é ineficiente.\n",
    "\n",
    "**Operações comuns**:\n",
    "\n",
    "- `enqueue(item)`: Insere um novo elemento no final da fila.\n",
    "- `dequeue()`: Remove e retorna o elemento do início da fila.\n",
    "- `front()`: Retorna o elemento do início da fila sem removê-lo.\n",
    "- `isEmpty()`: Verifica se a fila está vazia.\n",
    "\n",
    "**Exemplo**:"
   ]
  },
  {
   "cell_type": "code",
   "execution_count": 56,
   "metadata": {},
   "outputs": [],
   "source": [
    "class Node:\n",
    "    def __init__(self, data):\n",
    "        self.data = data\n",
    "        self.next = None\n",
    "\n",
    "\n",
    "class FilaDinamicaEncadeada:\n",
    "    def __init__(self):\n",
    "        self.frente = None\n",
    "        self.tras = None\n",
    "        self.tamanho = 0\n",
    "\n",
    "    def enqueue(self, item):\n",
    "        novo_no = Node(item)\n",
    "        if self.isEmpty():\n",
    "            self.frente = novo_no\n",
    "            self.tras = novo_no\n",
    "        else:\n",
    "            self.tras.next = novo_no\n",
    "            self.tras = novo_no\n",
    "        self.tamanho += 1\n",
    "\n",
    "    def dequeue(self):\n",
    "        if self.isEmpty():\n",
    "            print(\"Fila está vazia\")\n",
    "        item = self.frente.data\n",
    "        self.frente = self.frente.next\n",
    "        if self.frente is None:\n",
    "            self.tras = None\n",
    "        self.tamanho -= 1\n",
    "        return item\n",
    "\n",
    "    def front(self):\n",
    "        if self.isEmpty():\n",
    "            print(\"Fila está vazia\")\n",
    "        return self.frente.data\n",
    "\n",
    "    def isEmpty(self):\n",
    "        return self.frente is None"
   ]
  },
  {
   "cell_type": "code",
   "execution_count": 57,
   "metadata": {},
   "outputs": [
    {
     "name": "stdout",
     "output_type": "stream",
     "text": [
      "A\n",
      "B\n",
      "Fila não está vazia\n"
     ]
    }
   ],
   "source": [
    "minha_fila = FilaDinamicaEncadeada()\n",
    "\n",
    "minha_fila.enqueue(\"A\")\n",
    "minha_fila.enqueue(\"B\")\n",
    "minha_fila.enqueue(\"C\")\n",
    "\n",
    "print(minha_fila.front())  # Saída: A\n",
    "minha_fila.dequeue()\n",
    "print(minha_fila.front())  # Saída: B\n",
    "\n",
    "if minha_fila.isEmpty():\n",
    "    print(\"Fila está vazia\")\n",
    "else:\n",
    "    print(\"Fila não está vazia\")"
   ]
  },
  {
   "cell_type": "markdown",
   "metadata": {},
   "source": [
    "### 8 - Recursividade, Árvores e Árvores de Busca Binária"
   ]
  },
  {
   "cell_type": "markdown",
   "metadata": {},
   "source": [
    "##### **Recursividade**"
   ]
  },
  {
   "cell_type": "markdown",
   "metadata": {},
   "source": [
    "A recursão é um conceito fundamental na programação, onde uma função chama a si mesma para resolver um problema menor. Vamos ver um exemplo simples de uma função recursiva para calcular o fatorial de um número:"
   ]
  },
  {
   "cell_type": "code",
   "execution_count": 58,
   "metadata": {},
   "outputs": [],
   "source": [
    "def fatorial(n):\n",
    "    if n == 0:\n",
    "        return 1\n",
    "    else:\n",
    "        return n * fatorial(n - 1)"
   ]
  },
  {
   "cell_type": "code",
   "execution_count": 59,
   "metadata": {},
   "outputs": [
    {
     "name": "stdout",
     "output_type": "stream",
     "text": [
      "120\n"
     ]
    }
   ],
   "source": [
    "print(fatorial(5))"
   ]
  },
  {
   "cell_type": "markdown",
   "metadata": {},
   "source": [
    "Neste exemplo, a função fatorial calcula o fatorial de n chamando a si mesma com um argumento menor (n - 1) até que n seja 0, momento em que retorna 1."
   ]
  },
  {
   "cell_type": "markdown",
   "metadata": {},
   "source": [
    "##### **Árvores**"
   ]
  },
  {
   "cell_type": "markdown",
   "metadata": {},
   "source": [
    "Uma árvore é uma estrutura de dados não linear que consiste em um conjunto de nós, onde um nó é a raiz e os demais nós são divididos em subárvores. Aqui está um exemplo simples de como implementar uma árvore em Python:"
   ]
  },
  {
   "cell_type": "code",
   "execution_count": 60,
   "metadata": {},
   "outputs": [],
   "source": [
    "class Node:\n",
    "    def __init__(self, value):\n",
    "        self.value = value\n",
    "        self.children = []\n",
    "\n",
    "    def add_child(self, node):\n",
    "        self.children.append(node)"
   ]
  },
  {
   "cell_type": "code",
   "execution_count": 61,
   "metadata": {},
   "outputs": [],
   "source": [
    "# Criando uma árvore simples\n",
    "root = Node(1)\n",
    "child1 = Node(2)\n",
    "child2 = Node(3)\n",
    "\n",
    "root.add_child(child1)\n",
    "root.add_child(child2)"
   ]
  },
  {
   "cell_type": "markdown",
   "metadata": {},
   "source": [
    "Neste exemplo, criamos uma classe `Node` que representa um nó na árvore. Cada nó possui um valor e uma lista de filhos (outros nós). O método `add_child` adiciona um nó como filho do nó atual."
   ]
  },
  {
   "cell_type": "markdown",
   "metadata": {},
   "source": [
    "##### **Árvores de Busca Binária**"
   ]
  },
  {
   "cell_type": "markdown",
   "metadata": {},
   "source": [
    "Uma BST (Binary Search Tree) é uma árvore binária na qual todos os nós da subárvore esquerda têm valores menores que o nó raiz, e todos os nós da subárvore direita têm valores maiores. Aqui está um exemplo de implementação de uma BST em Python:"
   ]
  },
  {
   "cell_type": "code",
   "execution_count": 62,
   "metadata": {},
   "outputs": [],
   "source": [
    "class TreeNode:\n",
    "    def __init__(self, key):\n",
    "        self.key = key\n",
    "        self.left = None\n",
    "        self.right = None\n",
    "\n",
    "def insert(root, key):\n",
    "    if root is None:\n",
    "        return TreeNode(key)\n",
    "    else:\n",
    "        if root.key < key:\n",
    "            root.right = insert(root.right, key)\n",
    "        else:\n",
    "            root.left = insert(root.left, key)\n",
    "    return root\n",
    "\n",
    "def inorder_traversal(root):\n",
    "    if root:\n",
    "        inorder_traversal(root.left)\n",
    "        print(root.key)\n",
    "        inorder_traversal(root.right)"
   ]
  },
  {
   "cell_type": "code",
   "execution_count": 63,
   "metadata": {},
   "outputs": [
    {
     "name": "stdout",
     "output_type": "stream",
     "text": [
      "5\n",
      "10\n",
      "20\n",
      "25\n",
      "30\n",
      "40\n",
      "50\n",
      "60\n",
      "70\n"
     ]
    }
   ],
   "source": [
    "# Exemplo de uso\n",
    "root = None\n",
    "root = insert(root, 50)\n",
    "insert(root, 30)\n",
    "insert(root, 20)\n",
    "insert(root, 40)\n",
    "insert(root, 70)\n",
    "insert(root, 60)\n",
    "insert(root, 10)\n",
    "insert(root, 5)\n",
    "insert(root, 25)\n",
    "\n",
    "inorder_traversal(root)"
   ]
  },
  {
   "cell_type": "markdown",
   "metadata": {},
   "source": [
    "Neste exemplo, a função insert insere um novo nó na BST. Se a raiz for nula, ela cria um novo nó. Caso contrário, ela percorre a árvore recursivamente até encontrar um lugar adequado para o novo nó, com base em comparações com o valor do nó atual."
   ]
  },
  {
   "cell_type": "markdown",
   "metadata": {},
   "source": [
    "### 9 - Árvores AVL e Árvore B"
   ]
  },
  {
   "cell_type": "markdown",
   "metadata": {},
   "source": [
    "##### **Árvores AVL**"
   ]
  },
  {
   "cell_type": "markdown",
   "metadata": {},
   "source": [
    "Uma árvore AVL é uma árvore binária de busca balanceada, onde a diferença de altura entre as subárvores esquerda e direita de qualquer nó é no máximo 1. Isso garante que a árvore esteja sempre balanceada e as operações de busca, inserção e remoção tenham complexidade de tempo logarítmica.\n",
    "\n",
    "Em Python, você pode implementar uma árvore AVL da seguinte forma:"
   ]
  },
  {
   "cell_type": "code",
   "execution_count": 64,
   "metadata": {},
   "outputs": [],
   "source": [
    "class Node:\n",
    "    def __init__(self, key):\n",
    "        self.key = key\n",
    "        self.left = None\n",
    "        self.right = None\n",
    "        self.height = 1\n",
    "\n",
    "class AVLTree:\n",
    "    def insert(self, root, key):\n",
    "        if not root:\n",
    "            return Node(key)\n",
    "        elif key < root.key:\n",
    "            root.left = self.insert(root.left, key)\n",
    "        else:\n",
    "            root.right = self.insert(root.right, key)\n",
    "\n",
    "        root.height = 1 + max(self.get_height(root.left), self.get_height(root.right))\n",
    "\n",
    "        balance = self.get_balance(root)\n",
    "\n",
    "        if balance > 1 and key < root.left.key:\n",
    "            return self.rotate_right(root)\n",
    "        if balance < -1 and key > root.right.key:\n",
    "            return self.rotate_left(root)\n",
    "        if balance > 1 and key > root.left.key:\n",
    "            root.left = self.rotate_left(root.left)\n",
    "            return self.rotate_right(root)\n",
    "        if balance < -1 and key < root.right.key:\n",
    "            root.right = self.rotate_right(root.right)\n",
    "            return self.rotate_left(root)\n",
    "\n",
    "        return root\n",
    "\n",
    "    def rotate_right(self, z):\n",
    "        y = z.left\n",
    "        T = y.right\n",
    "\n",
    "        y.right = z\n",
    "        z.left = T\n",
    "\n",
    "        z.height = 1 + max(self.get_height(z.left), self.get_height(z.right))\n",
    "        y.height = 1 + max(self.get_height(y.left), self.get_height(y.right))\n",
    "\n",
    "        return y\n",
    "\n",
    "    def rotate_left(self, z):\n",
    "        y = z.right\n",
    "        T = y.left\n",
    "\n",
    "        y.left = z\n",
    "        z.right = T\n",
    "\n",
    "        z.height = 1 + max(self.get_height(z.left), self.get_height(z.right))\n",
    "        y.height = 1 + max(self.get_height(y.left), self.get_height(y.right))\n",
    "\n",
    "        return y\n",
    "\n",
    "    def get_height(self, root):\n",
    "        if not root:\n",
    "            return 0\n",
    "        return root.height\n",
    "\n",
    "    def get_balance(self, root):\n",
    "        if not root:\n",
    "            return 0\n",
    "        return self.get_height(root.left) - self.get_height(root.right)\n",
    "\n",
    "    def inorder_traversal(self, root):\n",
    "        if root:\n",
    "            self.inorder_traversal(root.left)\n",
    "            print(root.key)\n",
    "            self.inorder_traversal(root.right)\n"
   ]
  },
  {
   "cell_type": "code",
   "execution_count": 65,
   "metadata": {},
   "outputs": [
    {
     "name": "stdout",
     "output_type": "stream",
     "text": [
      "Árvore AVL:\n",
      "-1\n",
      "0\n",
      "1\n",
      "2\n",
      "5\n",
      "6\n",
      "9\n",
      "10\n",
      "11\n"
     ]
    }
   ],
   "source": [
    "# Exemplo de uso\n",
    "avl_tree = AVLTree()\n",
    "root = None\n",
    "keys = [9, 5, 10, 0, 6, 11, -1, 1, 2]\n",
    "for key in keys:\n",
    "    root = avl_tree.insert(root, key)\n",
    "\n",
    "print(\"Árvore AVL:\")\n",
    "avl_tree.inorder_traversal(root)"
   ]
  },
  {
   "cell_type": "markdown",
   "metadata": {},
   "source": [
    "##### **Árvores B**"
   ]
  },
  {
   "cell_type": "markdown",
   "metadata": {},
   "source": [
    "As árvores B são uma generalização das árvores de busca binária que permitem múltiplos filhos por nó e são utilizadas principalmente em bancos de dados e sistemas de arquivos. Elas são balanceadas e possuem um fator de ramificação mínimo, garantindo uma altura mínima e, portanto, um desempenho eficiente para operações de busca, inserção e remoção.\n",
    "\n",
    "Implementar uma árvore B em Python é mais complexo e depende do grau de complexidade desejado. Em geral, seria necessário implementar classes para os nós da árvore, os próprios nós, métodos para inserção, remoção, divisão e fusão de nós, entre outros.\n",
    "\n",
    "Um exemplo simples de uma árvore B em Python poderia ser algo como:"
   ]
  },
  {
   "cell_type": "code",
   "execution_count": 66,
   "metadata": {},
   "outputs": [],
   "source": [
    "class Node:\n",
    "    def __init__(self, leaf=False):\n",
    "        self.leaf = leaf\n",
    "        self.keys = []\n",
    "        self.child = []\n",
    "\n",
    "class BTree:\n",
    "    def __init__(self, order):\n",
    "        self.root = Node(leaf=True)\n",
    "        self.order = order\n",
    "\n",
    "    def insert(self, key):\n",
    "        root = self.root\n",
    "        if len(root.keys) == self.order - 1:\n",
    "            temp = Node()\n",
    "            temp.child.append(self.root)\n",
    "            self.split_child(temp, 0)\n",
    "            self.root = temp\n",
    "        self.insert_non_full(self.root, key)\n",
    "\n",
    "    def insert_non_full(self, x, key):\n",
    "        i = len(x.keys) - 1\n",
    "        if x.leaf:\n",
    "            x.keys.append(None)\n",
    "            while i >= 0 and key < x.keys[i]:\n",
    "                x.keys[i + 1] = x.keys[i]\n",
    "                i -= 1\n",
    "            x.keys[i + 1] = key\n",
    "        else:\n",
    "            while i >= 0 and key < x.keys[i]:\n",
    "                i -= 1\n",
    "            i += 1\n",
    "            if len(x.child) <= i:\n",
    "                x.child.append(Node(leaf=True))\n",
    "            elif len(x.child[i].keys) == self.order - 1:\n",
    "                self.split_child(x, i)\n",
    "                if key > x.keys[i]:\n",
    "                    i += 1\n",
    "            self.insert_non_full(x.child[i], key)\n",
    "\n",
    "\n",
    "\n",
    "    def split_child(self, x, i):\n",
    "        t = Node(leaf=x.child[i].leaf)\n",
    "        t.keys = x.child[i].keys[self.order//2:]\n",
    "        x.child.insert(i + 1, t)\n",
    "        x.keys.insert(i, x.child[i].keys[self.order//2 - 1])\n",
    "        x.child[i].keys = x.child[i].keys[:self.order//2 - 1]\n",
    "\n",
    "    def search(self, key):\n",
    "        return self._search(self.root, key)\n",
    "\n",
    "    def _search(self, x, key):\n",
    "        i = 0\n",
    "        while i < len(x.keys) and key > x.keys[i]:\n",
    "            i += 1\n",
    "        if i < len(x.keys) and key == x.keys[i]:\n",
    "            return True\n",
    "        elif x.leaf:\n",
    "            return False\n",
    "        else:\n",
    "            return self._search(x.child[i], key)\n",
    "\n",
    "    def delete(self, key):\n",
    "        self._delete(self.root, key)\n",
    "\n",
    "    def _delete(self, x, key):\n",
    "        i = 0\n",
    "        while i < len(x.keys) and key > x.keys[i]:\n",
    "            i += 1\n",
    "        if i < len(x.keys) and key == x.keys[i]:\n",
    "            self._delete_key_from_node(x, key, i)\n",
    "        elif not x.leaf:\n",
    "            self._delete_from_subtree(x, key, i)\n",
    "\n",
    "    def _delete_key_from_node(self, x, key, i):\n",
    "        if x.leaf:\n",
    "            x.keys.pop(i)\n",
    "        else:\n",
    "            # Implementar a remoção de uma chave em um nó não folha\n",
    "            pass\n",
    "\n",
    "    def _delete_from_subtree(self, x, key, i):\n",
    "        if len(x.child[i].keys) >= self.order // 2:\n",
    "            self._delete(x.child[i], key)\n",
    "        else:\n",
    "            # Implementar o tratamento quando o nó filho não tem chaves suficientes\n",
    "            pass\n"
   ]
  },
  {
   "cell_type": "code",
   "execution_count": 71,
   "metadata": {},
   "outputs": [
    {
     "name": "stdout",
     "output_type": "stream",
     "text": [
      "Árvore B:\n",
      "[1, 2]\n",
      "[4, 5]\n",
      "[7, 8]\n",
      "[10, 11]\n",
      "[13, 14]\n",
      "[16, 17]\n",
      "[19, 20, 21, 22]\n"
     ]
    }
   ],
   "source": [
    "# Exemplo de uso\n",
    "n = 22\n",
    "lista = [i for i in range(1, n+1)]\n",
    "\n",
    "btree = BTree(7)\n",
    "\n",
    "for c in lista:\n",
    "    btree.insert(c)\n",
    "\n",
    "print(\"Árvore B:\")\n",
    "filhos = btree.root.child\n",
    "\n",
    "for filho in filhos:\n",
    "    print(filho.keys)"
   ]
  },
  {
   "cell_type": "code",
   "execution_count": 68,
   "metadata": {},
   "outputs": [
    {
     "name": "stdout",
     "output_type": "stream",
     "text": [
      "Árvore B:\n",
      "[10, 20, 30, 40, 40]\n"
     ]
    }
   ],
   "source": [
    "# Teste 02\n",
    "btree = BTree(10)\n",
    "btree.insert(10)\n",
    "btree.insert(20)\n",
    "btree.insert(30)\n",
    "btree.insert(40)\n",
    "btree.insert(40)\n",
    "print(\"Árvore B:\")\n",
    "print(btree.root.keys)"
   ]
  },
  {
   "cell_type": "code",
   "execution_count": 69,
   "metadata": {},
   "outputs": [
    {
     "name": "stdout",
     "output_type": "stream",
     "text": [
      "Árvore B:\n",
      "[50, 100]\n"
     ]
    }
   ],
   "source": [
    "# Teste 02\n",
    "btree = BTree(3)\n",
    "btree.insert(50)\n",
    "btree.insert(100)\n",
    "btree.insert(5000)\n",
    "btree.insert(40)\n",
    "btree.insert(50)\n",
    "print(\"Árvore B:\")\n",
    "print(btree.root.keys)"
   ]
  },
  {
   "cell_type": "markdown",
   "metadata": {},
   "source": [
    "### 10 - Tabela Hash e Grafos"
   ]
  },
  {
   "cell_type": "markdown",
   "metadata": {},
   "source": []
  }
 ],
 "metadata": {
  "kernelspec": {
   "display_name": "Python 3",
   "language": "python",
   "name": "python3"
  },
  "language_info": {
   "codemirror_mode": {
    "name": "ipython",
    "version": 3
   },
   "file_extension": ".py",
   "mimetype": "text/x-python",
   "name": "python",
   "nbconvert_exporter": "python",
   "pygments_lexer": "ipython3",
   "version": "3.9.13"
  }
 },
 "nbformat": 4,
 "nbformat_minor": 2
}
