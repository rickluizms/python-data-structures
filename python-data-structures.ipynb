{
 "cells": [
  {
   "cell_type": "markdown",
   "metadata": {},
   "source": [
    " ### Estruturas de Dados em Python\n",
    "\n",
    "Entrando em um nível mais baixo, um programa está dividido em dados e nas instruções que manipulam esses dados.\n",
    "Para organizar os dados temos a `Estrutura de Dados` e para a manipulação deles, temos os `Algoritmos.` \n"
   ]
  },
  {
   "cell_type": "markdown",
   "metadata": {},
   "source": [
    "### 1 - Tipos de Dados\n",
    "\n",
    "É um conjunto de valores que uma constante, variável ou expressão podem assumir, ou então, a\n",
    "um conjunto de valores que possam ser gerados por uma função. "
   ]
  },
  {
   "cell_type": "markdown",
   "metadata": {},
   "source": [
    "**Tipos de Dados Primitivos**\n",
    "\n",
    "São os tipos de dados que além de depender das características do sistema, dependem do\n",
    "processador. Os tipos de dados primitivos ou básicos são aqueles a partir dos quais podemos\n",
    "definir os demais tipos ou organizações de informações, quase sempre mais complexas. Estes\n",
    "tipos de dados primitivos ou básicos são implementados e manipulados pelos compiladores: o\n",
    "compilador é o responsável do armazenamento e processamento (operações) destes tipos de\n",
    "dados. Os tipos de dados primitivos mais frequentes e suas operações são:\n",
    "\n",
    "- **Inteiro:** Numero inteiro (Idade, ano, dia)\n",
    "- **Real** Valores Decimais (Peso, estatura, salário)\n",
    "- **Caracteres** Sequencia de Caracteres (Nome, endereco, cargo)\n",
    "- **Lógico** Valores lógicos (E, OU, NÃO, True, False)\n",
    "- **Ponteiro** Endereço de memória do computador (FrenteFila, primeiro, proximo) `Não aplicável em python`\n",
    "\n",
    "Em Python, a linguagem é dinamicamente tipada, o que significa que você não precisa declarar explicitamente o tipo de dados de uma variável.\n",
    "\n",
    "Para lidar com os tipode de dados primitivos, o python possuem as seguintes ferramentas: "
   ]
  },
  {
   "cell_type": "markdown",
   "metadata": {},
   "source": [
    "##### Inteiros:"
   ]
  },
  {
   "cell_type": "markdown",
   "metadata": {},
   "source": [
    "- **Declaração e atribuição de um inteiro**:"
   ]
  },
  {
   "cell_type": "code",
   "execution_count": null,
   "metadata": {},
   "outputs": [],
   "source": [
    "idade = 30\n",
    "\n",
    "print('Idade: ', idade)"
   ]
  },
  {
   "cell_type": "markdown",
   "metadata": {},
   "source": [
    "- **Incremento**:"
   ]
  },
  {
   "cell_type": "code",
   "execution_count": null,
   "metadata": {},
   "outputs": [],
   "source": [
    "x = 0\n",
    "x += 1\n",
    "\n",
    "print('x: ', x)"
   ]
  },
  {
   "cell_type": "markdown",
   "metadata": {},
   "source": [
    "- **Decremento**:"
   ]
  },
  {
   "cell_type": "code",
   "execution_count": null,
   "metadata": {},
   "outputs": [],
   "source": [
    "y = 2\n",
    "y -= 1\n",
    "\n",
    "print('y: ', y)"
   ]
  },
  {
   "cell_type": "markdown",
   "metadata": {},
   "source": [
    "- **Operações matemáticas com inteiros**:"
   ]
  },
  {
   "cell_type": "code",
   "execution_count": null,
   "metadata": {},
   "outputs": [],
   "source": [
    "soma = 10 + 5\n",
    "subtracao = 20 - 8\n",
    "multiplicacao = 5 * 6\n",
    "divisao = 10 / 2\n",
    "divisao_inteira = 11 // 2\n",
    "resto_divisao = 5 % 3\n",
    "potencia = 5 ** 3\n",
    "\n",
    "print('Soma: ', soma)\n",
    "print('Subtração: ', subtracao)\n",
    "print('Multiplicação: ', multiplicacao)\n",
    "print('Divisão: ', divisao)\n",
    "print('Divisão Inteira: ', divisao_inteira)\n",
    "print('Potência: ', potencia)"
   ]
  },
  {
   "cell_type": "markdown",
   "metadata": {},
   "source": [
    "- **Operadores de comparação**:"
   ]
  },
  {
   "cell_type": "code",
   "execution_count": null,
   "metadata": {},
   "outputs": [],
   "source": [
    "resultado = (5 == 3)  # False\n",
    "resultado = (5 != 3)  # True\n",
    "resultado = (5 < 3)   # False\n",
    "resultado = (5 <= 3)  # False\n",
    "resultado = (5 > 3)   # True\n",
    "resultado = (5 >= 3)  # True"
   ]
  },
  {
   "cell_type": "markdown",
   "metadata": {},
   "source": [
    "##### Strings:"
   ]
  },
  {
   "cell_type": "markdown",
   "metadata": {},
   "source": [
    "- `len():` **Retorna o comprimento da string**."
   ]
  },
  {
   "cell_type": "code",
   "execution_count": null,
   "metadata": {},
   "outputs": [],
   "source": [
    "texto = \"Olá, mundo!\"\n",
    "comprimento = len(texto)\n",
    "print('Comprimento: ', comprimento)"
   ]
  },
  {
   "cell_type": "markdown",
   "metadata": {},
   "source": [
    "- `str():` **Converte um objeto em uma string**."
   ]
  },
  {
   "cell_type": "code",
   "execution_count": 1,
   "metadata": {},
   "outputs": [
    {
     "name": "stdout",
     "output_type": "stream",
     "text": [
      "42\n"
     ]
    }
   ],
   "source": [
    "numero = 42\n",
    "texto = str(numero)\n",
    "print(texto)"
   ]
  },
  {
   "cell_type": "markdown",
   "metadata": {},
   "source": [
    "- `upper():` **Converte todos os caracteres da string para maiúsculas**."
   ]
  },
  {
   "cell_type": "code",
   "execution_count": 2,
   "metadata": {},
   "outputs": [
    {
     "name": "stdout",
     "output_type": "stream",
     "text": [
      "OLÁ, MUNDO!\n"
     ]
    }
   ],
   "source": [
    "texto = \"olá, mundo!\"\n",
    "texto_maiusculo = texto.upper()\n",
    "print(texto_maiusculo)"
   ]
  },
  {
   "cell_type": "markdown",
   "metadata": {},
   "source": [
    "- `lower():` **Converte todos os caracteres da string para minúsculas**."
   ]
  },
  {
   "cell_type": "code",
   "execution_count": 3,
   "metadata": {},
   "outputs": [
    {
     "name": "stdout",
     "output_type": "stream",
     "text": [
      "olá, mundo!\n"
     ]
    }
   ],
   "source": [
    "texto = \"OLÁ, MUNDO!\"\n",
    "texto_minusculo = texto.lower()\n",
    "print(texto_minusculo)"
   ]
  },
  {
   "cell_type": "markdown",
   "metadata": {},
   "source": [
    "- `capitalize():` **Converte o primeiro caractere da string para maiúscula**."
   ]
  },
  {
   "cell_type": "code",
   "execution_count": 4,
   "metadata": {},
   "outputs": [
    {
     "name": "stdout",
     "output_type": "stream",
     "text": [
      "Olá, mundo!\n"
     ]
    }
   ],
   "source": [
    "texto = \"olá, mundo!\"\n",
    "texto_capitalizado = texto.capitalize()\n",
    "print(texto_capitalizado)"
   ]
  },
  {
   "cell_type": "markdown",
   "metadata": {},
   "source": [
    "- `title():` **Converte o primeiro caractere de cada palavra para maiúscula**."
   ]
  },
  {
   "cell_type": "code",
   "execution_count": 5,
   "metadata": {},
   "outputs": [
    {
     "name": "stdout",
     "output_type": "stream",
     "text": [
      "Olá, Mundo!\n"
     ]
    }
   ],
   "source": [
    "texto = \"olá, mundo!\"\n",
    "texto_titulado = texto.title()\n",
    "print(texto_titulado)"
   ]
  },
  {
   "cell_type": "markdown",
   "metadata": {},
   "source": [
    "- `split():` **Divide a string em uma lista de substrings usando um delimitador**."
   ]
  },
  {
   "cell_type": "code",
   "execution_count": 6,
   "metadata": {},
   "outputs": [
    {
     "name": "stdout",
     "output_type": "stream",
     "text": [
      "['olá', ' mundo!']\n"
     ]
    }
   ],
   "source": [
    "texto = \"olá, mundo!\"\n",
    "palavras = texto.split(\",\")\n",
    "print(palavras)"
   ]
  },
  {
   "cell_type": "markdown",
   "metadata": {},
   "source": [
    "- `join():` **Junta uma lista de strings em uma única string usando um separador**."
   ]
  },
  {
   "cell_type": "code",
   "execution_count": 7,
   "metadata": {},
   "outputs": [
    {
     "name": "stdout",
     "output_type": "stream",
     "text": [
      "olá, mundo\n"
     ]
    }
   ],
   "source": [
    "palavras = [\"olá\", \"mundo\"]\n",
    "texto = \", \".join(palavras)\n",
    "print(texto)"
   ]
  },
  {
   "cell_type": "markdown",
   "metadata": {},
   "source": [
    "- `replace():` **Substitui todas as ocorrências de uma substring por outra**."
   ]
  },
  {
   "cell_type": "code",
   "execution_count": 8,
   "metadata": {},
   "outputs": [
    {
     "name": "stdout",
     "output_type": "stream",
     "text": [
      "olá, Python!\n"
     ]
    }
   ],
   "source": [
    "texto = \"olá, mundo!\"\n",
    "novo_texto = texto.replace(\"mundo\", \"Python\")\n",
    "print(novo_texto)"
   ]
  },
  {
   "cell_type": "markdown",
   "metadata": {},
   "source": [
    "- `strip():` **Remove os espaços em branco no início e no final da string**."
   ]
  },
  {
   "cell_type": "code",
   "execution_count": 11,
   "metadata": {},
   "outputs": [
    {
     "name": "stdout",
     "output_type": "stream",
     "text": [
      "olá, mundo!\n"
     ]
    }
   ],
   "source": [
    "texto = \"   olá, mundo!   \"\n",
    "texto_sem_espacos = texto.strip()\n",
    "print(texto_sem_espacos)"
   ]
  },
  {
   "cell_type": "markdown",
   "metadata": {},
   "source": [
    "- `startswith(prefixo):` **Retorna True se a string começar com o prefixo especificado**."
   ]
  },
  {
   "cell_type": "code",
   "execution_count": 12,
   "metadata": {},
   "outputs": [
    {
     "name": "stdout",
     "output_type": "stream",
     "text": [
      "True\n"
     ]
    }
   ],
   "source": [
    "texto = \"Olá, mundo!\"\n",
    "verificacao = texto.startswith(\"Olá\")  # Retorna True\n",
    "print(verificacao)"
   ]
  },
  {
   "cell_type": "markdown",
   "metadata": {},
   "source": [
    "- `endswith(sufixo):` **Retorna True se a string terminar com o sufixo especificado**."
   ]
  },
  {
   "cell_type": "code",
   "execution_count": 17,
   "metadata": {},
   "outputs": [
    {
     "name": "stdout",
     "output_type": "stream",
     "text": [
      "True\n"
     ]
    }
   ],
   "source": [
    "texto = \"Olá, mundo!\"\n",
    "verificacao = texto.endswith(\"mundo!\")  # Retorna True\n",
    "print(verificacao)"
   ]
  },
  {
   "cell_type": "markdown",
   "metadata": {},
   "source": [
    "**2 - Tipos de Dados Estruturados**\n",
    "\n",
    "Os tipos de dados estruturados são organizações de dados que são obtidas a partir dos tipos de\n",
    "dados primitivos. A maioria das linguagens de programação prove alguns tipos estruturados\n",
    "para facilitar a organização de dados. Os mais frequentes são os seguintes:"
   ]
  },
  {
   "cell_type": "markdown",
   "metadata": {},
   "source": [
    "- **Arranjos (arrays)**: Em Python, a estrutura de dados mais próxima de um array seria uma lista. Listas podem conter elementos de diferentes tipos e podem ser dimensionadas dinamicamente, não necessitando de uma declaração de tamanho fixo. Exemplo:"
   ]
  },
  {
   "cell_type": "code",
   "execution_count": null,
   "metadata": {},
   "outputs": [],
   "source": [
    "# Lista com 51 elementos\n",
    "x = [0] * 51  # Cria uma lista com 51 elementos, todos inicializados com 0"
   ]
  },
  {
   "cell_type": "markdown",
   "metadata": {},
   "source": [
    "- **Registros**: Em Python, você pode usar um dicionário para representar um registro. Um dicionário permite associar chaves a valores, simulando a estrutura de um registro. Exemplo:"
   ]
  },
  {
   "cell_type": "code",
   "execution_count": null,
   "metadata": {},
   "outputs": [],
   "source": [
    "# Dicionário representando um registro com campos 'nome' e 'idade'\n",
    "pessoa = {'nome': 'João', 'idade': 30}"
   ]
  },
  {
   "cell_type": "markdown",
   "metadata": {},
   "source": [
    "- **Conjuntos**: Em Python, você pode usar o tipo set para representar conjuntos. Um conjunto é uma coleção não ordenada de elementos únicos. Exemplo:"
   ]
  },
  {
   "cell_type": "code",
   "execution_count": null,
   "metadata": {},
   "outputs": [],
   "source": [
    "# Criando um conjunto com elementos únicos\n",
    "conjunto = {1, 2, 3, 4, 5}"
   ]
  },
  {
   "cell_type": "markdown",
   "metadata": {},
   "source": [
    "Lembrando que em Python, os tipos de dados são dinâmicos, ou seja, você não precisa declarar o tipo de dado de uma variável antes de atribuir um valor a ela. Além disso, Python possui estruturas de dados nativas poderosas que podem ser usadas para representar uma variedade de tipos estruturados de forma mais flexível do que em muitas outras linguagens."
   ]
  },
  {
   "cell_type": "markdown",
   "metadata": {},
   "source": []
  },
  {
   "cell_type": "markdown",
   "metadata": {},
   "source": [
    "### 2 - Abstração\n",
    "\n",
    "Em Python, os tipos abstratos de dados (TADs) são frequentemente implementados por meio de classes. As classes em Python são usadas para definir novos tipos de objetos, com atributos que representam os valores do TAD e métodos que definem as operações que podem ser realizadas sobre esses valores.\n",
    "\n",
    "Por exemplo, para implementar um tipo abstrato de dados de Conjunto (Set) em Python, podemos criar uma classe Conjunto com métodos para adicionar elementos, remover elementos e verificar se um elemento está presente no conjunto. Aqui está um exemplo simples:"
   ]
  },
  {
   "cell_type": "code",
   "execution_count": null,
   "metadata": {},
   "outputs": [],
   "source": [
    "class Conjunto:\n",
    "    def __init__(self):\n",
    "        self.elementos = []\n",
    "\n",
    "    def adicionar(self, elemento):\n",
    "        if elemento not in self.elementos:\n",
    "            self.elementos.append(elemento)\n",
    "\n",
    "    def remover(self, elemento):\n",
    "        if elemento in self.elementos:\n",
    "            self.elementos.remove(elemento)\n",
    "\n",
    "    def esta_presente(self, elemento):\n",
    "        return elemento in self.elementos"
   ]
  },
  {
   "cell_type": "markdown",
   "metadata": {},
   "source": [
    "Com essa classe, podemos criar um conjunto e realizar operações sobre ele:"
   ]
  },
  {
   "cell_type": "code",
   "execution_count": null,
   "metadata": {},
   "outputs": [],
   "source": [
    "meu_conjunto = Conjunto()\n",
    "meu_conjunto.adicionar(1)\n",
    "meu_conjunto.adicionar(2)\n",
    "print(meu_conjunto.esta_presente(1))  # Saída: True\n",
    "meu_conjunto.remover(1)\n",
    "print(meu_conjunto.esta_presente(1))  # Saída: False\n"
   ]
  },
  {
   "cell_type": "markdown",
   "metadata": {},
   "source": [
    "Em resumo, em Python, os tipos abstratos de dados podem ser implementados usando classes, com atributos para representar os valores e métodos para definir as operações. Python também fornece estruturas de dados nativas, como listas, dicionários e conjuntos, que podem ser usadas para implementar muitos tipos de TADs de forma eficiente."
   ]
  },
  {
   "cell_type": "markdown",
   "metadata": {},
   "source": [
    "### 3 - Listas Lineares\n",
    "\n",
    "Em Python, a implementação de listas lineares pode ser feita usando a estrutura de dados nativa list. As listas em Python são dinâmicas e podem crescer ou encolher automaticamente conforme necessário. Aqui está um exemplo simples de como trabalhar com listas em Python:"
   ]
  },
  {
   "cell_type": "markdown",
   "metadata": {},
   "source": [
    "- Criar listas:"
   ]
  },
  {
   "cell_type": "code",
   "execution_count": null,
   "metadata": {},
   "outputs": [],
   "source": [
    "# Criando uma lista vazia\n",
    "minha_lista = []\n",
    "\n",
    "print(minha_lista)"
   ]
  },
  {
   "cell_type": "markdown",
   "metadata": {},
   "source": [
    "- Adicionar elementos à lista:"
   ]
  },
  {
   "cell_type": "code",
   "execution_count": null,
   "metadata": {},
   "outputs": [],
   "source": [
    "minha_lista.append(1)\n",
    "minha_lista.append(2)\n",
    "minha_lista.append(3)\n",
    "\n",
    "print(minha_lista)"
   ]
  },
  {
   "cell_type": "markdown",
   "metadata": {},
   "source": [
    "- Acessando elementos da lista"
   ]
  },
  {
   "cell_type": "code",
   "execution_count": null,
   "metadata": {},
   "outputs": [],
   "source": [
    "primeiro_elemento = minha_lista[0]\n",
    "ultimo_elemento = minha_lista[-1]\n",
    "\n",
    "print(f\"Primeiro elemento: {primeiro_elemento}\")\n",
    "print(f\"Ultimo elemento: {ultimo_elemento}\")"
   ]
  },
  {
   "cell_type": "markdown",
   "metadata": {},
   "source": [
    "- Procurando um determinado elemento na lista:"
   ]
  },
  {
   "cell_type": "code",
   "execution_count": null,
   "metadata": {},
   "outputs": [],
   "source": [
    "indice_elemento = minha_lista.index(2)  # Retorna o índice do elemento 2 na lista\n",
    "print(indice_elemento)"
   ]
  },
  {
   "cell_type": "markdown",
   "metadata": {},
   "source": [
    "- Inserindo um elemento em uma posição específica da lista"
   ]
  },
  {
   "cell_type": "code",
   "execution_count": null,
   "metadata": {},
   "outputs": [],
   "source": [
    "minha_lista.insert(1, 4)  # Insere o valor 4 na posição 1\n",
    "print(minha_lista)"
   ]
  },
  {
   "cell_type": "markdown",
   "metadata": {},
   "source": [
    "- Removendo um elemento de uma posição específica da lista"
   ]
  },
  {
   "cell_type": "code",
   "execution_count": null,
   "metadata": {},
   "outputs": [],
   "source": [
    "elemento_removido = minha_lista.pop(2)  # Remove o elemento na posição 2 e o retorna\n",
    "print(f\"Elemento removido: {elemento_removido}\")\n",
    "print(\"Nova lista: \", minha_lista)"
   ]
  },
  {
   "cell_type": "markdown",
   "metadata": {},
   "source": [
    "- Combinando duas listas em uma única"
   ]
  },
  {
   "cell_type": "code",
   "execution_count": null,
   "metadata": {},
   "outputs": [],
   "source": [
    "outra_lista = [5, 6, 7]\n",
    "minha_lista.extend(outra_lista)  # Adiciona os elementos de outra_lista ao final de minha_lista\n",
    "print(minha_lista)"
   ]
  },
  {
   "cell_type": "markdown",
   "metadata": {},
   "source": [
    "- Particionando uma lista em duas"
   ]
  },
  {
   "cell_type": "code",
   "execution_count": null,
   "metadata": {},
   "outputs": [],
   "source": [
    "parte1 = minha_lista[:3]  # Os dois primeiros elementos\n",
    "parte2 = minha_lista[3:]  # Do terceiro elemento até o final\n",
    "print(parte1)\n",
    "print(parte2)"
   ]
  },
  {
   "cell_type": "markdown",
   "metadata": {},
   "source": [
    "- Obtendo uma cópia da lista"
   ]
  },
  {
   "cell_type": "code",
   "execution_count": null,
   "metadata": {},
   "outputs": [],
   "source": [
    "copia_lista = minha_lista.copy()"
   ]
  },
  {
   "cell_type": "markdown",
   "metadata": {},
   "source": [
    "- Determinando o total de elementos na lista"
   ]
  },
  {
   "cell_type": "code",
   "execution_count": null,
   "metadata": {},
   "outputs": [],
   "source": [
    "total_elementos = len(minha_lista)\n",
    "print(total_elementos)"
   ]
  },
  {
   "cell_type": "markdown",
   "metadata": {},
   "source": [
    "- Ordenando os elementos da lista (Crescente)"
   ]
  },
  {
   "cell_type": "code",
   "execution_count": null,
   "metadata": {},
   "outputs": [],
   "source": [
    "minha_lista.sort()\n",
    "print(minha_lista)"
   ]
  },
  {
   "cell_type": "markdown",
   "metadata": {},
   "source": [
    "- Ordenando os elementos da lista (Crescente)"
   ]
  },
  {
   "cell_type": "code",
   "execution_count": null,
   "metadata": {},
   "outputs": [],
   "source": [
    "lista_ordenada = minha_lista[::-1]\n",
    "print(lista_ordenada)"
   ]
  },
  {
   "cell_type": "markdown",
   "metadata": {},
   "source": [
    "- Apagando uma lista"
   ]
  },
  {
   "cell_type": "code",
   "execution_count": null,
   "metadata": {},
   "outputs": [],
   "source": [
    "del minha_lista"
   ]
  },
  {
   "cell_type": "markdown",
   "metadata": {},
   "source": [
    "### 4 - Matrizes\n",
    "\n",
    "Em Python, uma matriz pode ser representada como uma lista de listas, onde cada lista interna representa uma linha da matriz. As operações que podemos realizar com matrizes em Python incluem:"
   ]
  },
  {
   "cell_type": "markdown",
   "metadata": {},
   "source": [
    "- **Criar uma matriz**:"
   ]
  },
  {
   "cell_type": "code",
   "execution_count": null,
   "metadata": {},
   "outputs": [],
   "source": [
    "matriz = [\n",
    "    [1, 2, 3], \n",
    "    [4, 5, 6], \n",
    "    [7, 8, 9]\n",
    "]\n",
    "\n",
    "print(matriz)"
   ]
  },
  {
   "cell_type": "markdown",
   "metadata": {},
   "source": [
    "- **Acessar elementos da matriz**:"
   ]
  },
  {
   "cell_type": "code",
   "execution_count": null,
   "metadata": {},
   "outputs": [],
   "source": [
    "elemento = matriz[1][1]\n",
    "print(elemento)"
   ]
  },
  {
   "cell_type": "markdown",
   "metadata": {},
   "source": [
    "- **Adicionar uma linha à matriz**:"
   ]
  },
  {
   "cell_type": "code",
   "execution_count": null,
   "metadata": {},
   "outputs": [],
   "source": [
    "matriz.append([10, 11, 12])\n",
    "print(matriz)"
   ]
  },
  {
   "cell_type": "markdown",
   "metadata": {},
   "source": [
    "- Adicionar um elemento a uma linha específica:"
   ]
  },
  {
   "cell_type": "code",
   "execution_count": null,
   "metadata": {},
   "outputs": [],
   "source": [
    "matriz[3].append(15)\n",
    "print(matriz)"
   ]
  },
  {
   "cell_type": "markdown",
   "metadata": {},
   "source": [
    "- **Remover um elemento de uma linha específica**:"
   ]
  },
  {
   "cell_type": "code",
   "execution_count": null,
   "metadata": {},
   "outputs": [],
   "source": [
    "matriz[3].remove(15)\n",
    "print(matriz)"
   ]
  },
  {
   "cell_type": "markdown",
   "metadata": {},
   "source": [
    "- **Remover uma linha da matriz**:"
   ]
  },
  {
   "cell_type": "code",
   "execution_count": null,
   "metadata": {},
   "outputs": [],
   "source": [
    "del matriz[3]\n",
    "print(matriz)"
   ]
  },
  {
   "cell_type": "markdown",
   "metadata": {},
   "source": [
    "- **Obter o número de linhas e colunas da matriz**:"
   ]
  },
  {
   "cell_type": "code",
   "execution_count": null,
   "metadata": {},
   "outputs": [],
   "source": [
    "num_linhas = len(matriz)\n",
    "num_colunas = len(matriz[0]) if matriz else 0\n",
    "\n",
    "print('Numero de Linhas: ', num_linhas )\n",
    "print('Numero de Colunas: ', num_colunas )"
   ]
  },
  {
   "cell_type": "markdown",
   "metadata": {},
   "source": [
    "- **Transpor a matriz**:"
   ]
  },
  {
   "cell_type": "code",
   "execution_count": null,
   "metadata": {},
   "outputs": [],
   "source": [
    "matriz_transposta = [[matriz[j][i] for j in range(num_linhas)] for i in range(num_colunas)]\n",
    "\n",
    "print(matriz_transposta)"
   ]
  },
  {
   "cell_type": "markdown",
   "metadata": {},
   "source": [
    "- **Somar duas matrizes**:"
   ]
  },
  {
   "cell_type": "code",
   "execution_count": null,
   "metadata": {},
   "outputs": [],
   "source": [
    "matriz1 = matriz\n",
    "matriz2 = matriz_transposta\n",
    "\n",
    "matriz_resultante = [[matriz1[i][j] + matriz2[i][j] for j in range(num_colunas)] for i in range(num_linhas)]\n",
    "print(matriz_resultante)"
   ]
  },
  {
   "cell_type": "markdown",
   "metadata": {},
   "source": [
    "- **Multiplicar uma matriz por um escalar**:"
   ]
  },
  {
   "cell_type": "code",
   "execution_count": null,
   "metadata": {},
   "outputs": [],
   "source": [
    "escalar = 3\n",
    "\n",
    "matriz_resultante = [[elemento * escalar for elemento in linha] for linha in matriz]\n",
    "print(matriz_resultante)"
   ]
  },
  {
   "cell_type": "markdown",
   "metadata": {},
   "source": [
    "- **Multiplicar duas matrizes**:"
   ]
  },
  {
   "cell_type": "code",
   "execution_count": null,
   "metadata": {},
   "outputs": [],
   "source": [
    "matriz1 = matriz\n",
    "matriz2 = matriz_transposta\n",
    "\n",
    "matriz_resultante = [[sum(matriz1[i][k] * matriz2[k][j] for k in range(num_colunas)) for j in range(num_colunas)] for i in range(num_linhas)]\n",
    "\n",
    "print(matriz_resultante)"
   ]
  },
  {
   "cell_type": "markdown",
   "metadata": {},
   "source": [
    "### 5 - Dicionários"
   ]
  },
  {
   "cell_type": "markdown",
   "metadata": {},
   "source": []
  },
  {
   "cell_type": "markdown",
   "metadata": {},
   "source": [
    "### 6 - Pilhas"
   ]
  },
  {
   "cell_type": "markdown",
   "metadata": {},
   "source": []
  },
  {
   "cell_type": "markdown",
   "metadata": {},
   "source": [
    "### 7 - Filas e Listas Ordenadas"
   ]
  },
  {
   "cell_type": "markdown",
   "metadata": {},
   "source": []
  },
  {
   "cell_type": "markdown",
   "metadata": {},
   "source": [
    "### 8 - Recursividade, Árvores e Árvores de Busca Binária"
   ]
  },
  {
   "cell_type": "markdown",
   "metadata": {},
   "source": []
  },
  {
   "cell_type": "markdown",
   "metadata": {},
   "source": [
    "### 9 - Árvores AVL e Árvore B"
   ]
  },
  {
   "cell_type": "markdown",
   "metadata": {},
   "source": []
  },
  {
   "cell_type": "markdown",
   "metadata": {},
   "source": [
    "### 10 - Tabela Hash e Grafos"
   ]
  },
  {
   "cell_type": "markdown",
   "metadata": {},
   "source": []
  }
 ],
 "metadata": {
  "kernelspec": {
   "display_name": "Python 3",
   "language": "python",
   "name": "python3"
  },
  "language_info": {
   "codemirror_mode": {
    "name": "ipython",
    "version": 3
   },
   "file_extension": ".py",
   "mimetype": "text/x-python",
   "name": "python",
   "nbconvert_exporter": "python",
   "pygments_lexer": "ipython3",
   "version": "3.9.13"
  }
 },
 "nbformat": 4,
 "nbformat_minor": 2
}
